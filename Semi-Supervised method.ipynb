{
  "nbformat": 4,
  "nbformat_minor": 0,
  "metadata": {
    "colab": {
      "name": "05-06 CLUST WITH NO PREPROCESSING VK",
      "provenance": [],
      "collapsed_sections": [],
      "machine_shape": "hm"
    },
    "kernelspec": {
      "display_name": "Python 3",
      "name": "python3"
    },
    "widgets": {
      "application/vnd.jupyter.widget-state+json": {
        "d125ab7cb6ba409381777d7238cfdee7": {
          "model_module": "@jupyter-widgets/controls",
          "model_name": "HBoxModel",
          "model_module_version": "1.5.0",
          "state": {
            "_view_name": "HBoxView",
            "_dom_classes": [],
            "_model_name": "HBoxModel",
            "_view_module": "@jupyter-widgets/controls",
            "_model_module_version": "1.5.0",
            "_view_count": null,
            "_view_module_version": "1.5.0",
            "box_style": "",
            "layout": "IPY_MODEL_28b574dedfe94d768733bfd65bb876f2",
            "_model_module": "@jupyter-widgets/controls",
            "children": [
              "IPY_MODEL_da9a12f5e9d54eb2bcec5cf556bae141",
              "IPY_MODEL_14195fdaca04424dab753e423b6e2040"
            ]
          }
        },
        "28b574dedfe94d768733bfd65bb876f2": {
          "model_module": "@jupyter-widgets/base",
          "model_name": "LayoutModel",
          "model_module_version": "1.2.0",
          "state": {
            "_view_name": "LayoutView",
            "grid_template_rows": null,
            "right": null,
            "justify_content": null,
            "_view_module": "@jupyter-widgets/base",
            "overflow": null,
            "_model_module_version": "1.2.0",
            "_view_count": null,
            "flex_flow": null,
            "width": null,
            "min_width": null,
            "border": null,
            "align_items": null,
            "bottom": null,
            "_model_module": "@jupyter-widgets/base",
            "top": null,
            "grid_column": null,
            "overflow_y": null,
            "overflow_x": null,
            "grid_auto_flow": null,
            "grid_area": null,
            "grid_template_columns": null,
            "flex": null,
            "_model_name": "LayoutModel",
            "justify_items": null,
            "grid_row": null,
            "max_height": null,
            "align_content": null,
            "visibility": null,
            "align_self": null,
            "height": null,
            "min_height": null,
            "padding": null,
            "grid_auto_rows": null,
            "grid_gap": null,
            "max_width": null,
            "order": null,
            "_view_module_version": "1.2.0",
            "grid_template_areas": null,
            "object_position": null,
            "object_fit": null,
            "grid_auto_columns": null,
            "margin": null,
            "display": null,
            "left": null
          }
        },
        "da9a12f5e9d54eb2bcec5cf556bae141": {
          "model_module": "@jupyter-widgets/controls",
          "model_name": "FloatProgressModel",
          "model_module_version": "1.5.0",
          "state": {
            "_view_name": "ProgressView",
            "style": "IPY_MODEL_295eab481f8f4891a7caac80b0215f4a",
            "_dom_classes": [],
            "description": "100%",
            "_model_name": "FloatProgressModel",
            "bar_style": "success",
            "max": 59882,
            "_view_module": "@jupyter-widgets/controls",
            "_model_module_version": "1.5.0",
            "value": 59882,
            "_view_count": null,
            "_view_module_version": "1.5.0",
            "orientation": "horizontal",
            "min": 0,
            "description_tooltip": null,
            "_model_module": "@jupyter-widgets/controls",
            "layout": "IPY_MODEL_18e1c949786b4b77acdc14a5377c9ba8"
          }
        },
        "14195fdaca04424dab753e423b6e2040": {
          "model_module": "@jupyter-widgets/controls",
          "model_name": "HTMLModel",
          "model_module_version": "1.5.0",
          "state": {
            "_view_name": "HTMLView",
            "style": "IPY_MODEL_61a3b3a751dc4cb08194ce4c59407573",
            "_dom_classes": [],
            "description": "",
            "_model_name": "HTMLModel",
            "placeholder": "​",
            "_view_module": "@jupyter-widgets/controls",
            "_model_module_version": "1.5.0",
            "value": " 59882/59882 [00:56&lt;00:00, 1053.90it/s]",
            "_view_count": null,
            "_view_module_version": "1.5.0",
            "description_tooltip": null,
            "_model_module": "@jupyter-widgets/controls",
            "layout": "IPY_MODEL_6ef4c57798fc4cb9b870823fa4ac2a58"
          }
        },
        "295eab481f8f4891a7caac80b0215f4a": {
          "model_module": "@jupyter-widgets/controls",
          "model_name": "ProgressStyleModel",
          "model_module_version": "1.5.0",
          "state": {
            "_view_name": "StyleView",
            "_model_name": "ProgressStyleModel",
            "description_width": "initial",
            "_view_module": "@jupyter-widgets/base",
            "_model_module_version": "1.5.0",
            "_view_count": null,
            "_view_module_version": "1.2.0",
            "bar_color": null,
            "_model_module": "@jupyter-widgets/controls"
          }
        },
        "18e1c949786b4b77acdc14a5377c9ba8": {
          "model_module": "@jupyter-widgets/base",
          "model_name": "LayoutModel",
          "model_module_version": "1.2.0",
          "state": {
            "_view_name": "LayoutView",
            "grid_template_rows": null,
            "right": null,
            "justify_content": null,
            "_view_module": "@jupyter-widgets/base",
            "overflow": null,
            "_model_module_version": "1.2.0",
            "_view_count": null,
            "flex_flow": null,
            "width": null,
            "min_width": null,
            "border": null,
            "align_items": null,
            "bottom": null,
            "_model_module": "@jupyter-widgets/base",
            "top": null,
            "grid_column": null,
            "overflow_y": null,
            "overflow_x": null,
            "grid_auto_flow": null,
            "grid_area": null,
            "grid_template_columns": null,
            "flex": null,
            "_model_name": "LayoutModel",
            "justify_items": null,
            "grid_row": null,
            "max_height": null,
            "align_content": null,
            "visibility": null,
            "align_self": null,
            "height": null,
            "min_height": null,
            "padding": null,
            "grid_auto_rows": null,
            "grid_gap": null,
            "max_width": null,
            "order": null,
            "_view_module_version": "1.2.0",
            "grid_template_areas": null,
            "object_position": null,
            "object_fit": null,
            "grid_auto_columns": null,
            "margin": null,
            "display": null,
            "left": null
          }
        },
        "61a3b3a751dc4cb08194ce4c59407573": {
          "model_module": "@jupyter-widgets/controls",
          "model_name": "DescriptionStyleModel",
          "model_module_version": "1.5.0",
          "state": {
            "_view_name": "StyleView",
            "_model_name": "DescriptionStyleModel",
            "description_width": "",
            "_view_module": "@jupyter-widgets/base",
            "_model_module_version": "1.5.0",
            "_view_count": null,
            "_view_module_version": "1.2.0",
            "_model_module": "@jupyter-widgets/controls"
          }
        },
        "6ef4c57798fc4cb9b870823fa4ac2a58": {
          "model_module": "@jupyter-widgets/base",
          "model_name": "LayoutModel",
          "model_module_version": "1.2.0",
          "state": {
            "_view_name": "LayoutView",
            "grid_template_rows": null,
            "right": null,
            "justify_content": null,
            "_view_module": "@jupyter-widgets/base",
            "overflow": null,
            "_model_module_version": "1.2.0",
            "_view_count": null,
            "flex_flow": null,
            "width": null,
            "min_width": null,
            "border": null,
            "align_items": null,
            "bottom": null,
            "_model_module": "@jupyter-widgets/base",
            "top": null,
            "grid_column": null,
            "overflow_y": null,
            "overflow_x": null,
            "grid_auto_flow": null,
            "grid_area": null,
            "grid_template_columns": null,
            "flex": null,
            "_model_name": "LayoutModel",
            "justify_items": null,
            "grid_row": null,
            "max_height": null,
            "align_content": null,
            "visibility": null,
            "align_self": null,
            "height": null,
            "min_height": null,
            "padding": null,
            "grid_auto_rows": null,
            "grid_gap": null,
            "max_width": null,
            "order": null,
            "_view_module_version": "1.2.0",
            "grid_template_areas": null,
            "object_position": null,
            "object_fit": null,
            "grid_auto_columns": null,
            "margin": null,
            "display": null,
            "left": null
          }
        },
        "cbbc2b2edc8e436285c28cbd540e4e10": {
          "model_module": "@jupyter-widgets/controls",
          "model_name": "HBoxModel",
          "model_module_version": "1.5.0",
          "state": {
            "_view_name": "HBoxView",
            "_dom_classes": [],
            "_model_name": "HBoxModel",
            "_view_module": "@jupyter-widgets/controls",
            "_model_module_version": "1.5.0",
            "_view_count": null,
            "_view_module_version": "1.5.0",
            "box_style": "",
            "layout": "IPY_MODEL_c0168bf93d414814babacf03b95cbb98",
            "_model_module": "@jupyter-widgets/controls",
            "children": [
              "IPY_MODEL_bc5ef4d53e9041f1b2740b2d6527b414",
              "IPY_MODEL_8934df213bc44031a379da61b4003d6c"
            ]
          }
        },
        "c0168bf93d414814babacf03b95cbb98": {
          "model_module": "@jupyter-widgets/base",
          "model_name": "LayoutModel",
          "model_module_version": "1.2.0",
          "state": {
            "_view_name": "LayoutView",
            "grid_template_rows": null,
            "right": null,
            "justify_content": null,
            "_view_module": "@jupyter-widgets/base",
            "overflow": null,
            "_model_module_version": "1.2.0",
            "_view_count": null,
            "flex_flow": null,
            "width": null,
            "min_width": null,
            "border": null,
            "align_items": null,
            "bottom": null,
            "_model_module": "@jupyter-widgets/base",
            "top": null,
            "grid_column": null,
            "overflow_y": null,
            "overflow_x": null,
            "grid_auto_flow": null,
            "grid_area": null,
            "grid_template_columns": null,
            "flex": null,
            "_model_name": "LayoutModel",
            "justify_items": null,
            "grid_row": null,
            "max_height": null,
            "align_content": null,
            "visibility": null,
            "align_self": null,
            "height": null,
            "min_height": null,
            "padding": null,
            "grid_auto_rows": null,
            "grid_gap": null,
            "max_width": null,
            "order": null,
            "_view_module_version": "1.2.0",
            "grid_template_areas": null,
            "object_position": null,
            "object_fit": null,
            "grid_auto_columns": null,
            "margin": null,
            "display": null,
            "left": null
          }
        },
        "bc5ef4d53e9041f1b2740b2d6527b414": {
          "model_module": "@jupyter-widgets/controls",
          "model_name": "FloatProgressModel",
          "model_module_version": "1.5.0",
          "state": {
            "_view_name": "ProgressView",
            "style": "IPY_MODEL_d9fd75331a934284a599f9ed94c6f6da",
            "_dom_classes": [],
            "description": "100%",
            "_model_name": "FloatProgressModel",
            "bar_style": "success",
            "max": 2350,
            "_view_module": "@jupyter-widgets/controls",
            "_model_module_version": "1.5.0",
            "value": 2350,
            "_view_count": null,
            "_view_module_version": "1.5.0",
            "orientation": "horizontal",
            "min": 0,
            "description_tooltip": null,
            "_model_module": "@jupyter-widgets/controls",
            "layout": "IPY_MODEL_7d8470ac768240f3869e6d47d30d565b"
          }
        },
        "8934df213bc44031a379da61b4003d6c": {
          "model_module": "@jupyter-widgets/controls",
          "model_name": "HTMLModel",
          "model_module_version": "1.5.0",
          "state": {
            "_view_name": "HTMLView",
            "style": "IPY_MODEL_602e5e21e12643fe9984f382866f6991",
            "_dom_classes": [],
            "description": "",
            "_model_name": "HTMLModel",
            "placeholder": "​",
            "_view_module": "@jupyter-widgets/controls",
            "_model_module_version": "1.5.0",
            "value": " 2350/2350 [12:33&lt;00:00,  3.12it/s]",
            "_view_count": null,
            "_view_module_version": "1.5.0",
            "description_tooltip": null,
            "_model_module": "@jupyter-widgets/controls",
            "layout": "IPY_MODEL_306a4cbe82b441a1a6d2d00d9048e51b"
          }
        },
        "d9fd75331a934284a599f9ed94c6f6da": {
          "model_module": "@jupyter-widgets/controls",
          "model_name": "ProgressStyleModel",
          "model_module_version": "1.5.0",
          "state": {
            "_view_name": "StyleView",
            "_model_name": "ProgressStyleModel",
            "description_width": "initial",
            "_view_module": "@jupyter-widgets/base",
            "_model_module_version": "1.5.0",
            "_view_count": null,
            "_view_module_version": "1.2.0",
            "bar_color": null,
            "_model_module": "@jupyter-widgets/controls"
          }
        },
        "7d8470ac768240f3869e6d47d30d565b": {
          "model_module": "@jupyter-widgets/base",
          "model_name": "LayoutModel",
          "model_module_version": "1.2.0",
          "state": {
            "_view_name": "LayoutView",
            "grid_template_rows": null,
            "right": null,
            "justify_content": null,
            "_view_module": "@jupyter-widgets/base",
            "overflow": null,
            "_model_module_version": "1.2.0",
            "_view_count": null,
            "flex_flow": null,
            "width": null,
            "min_width": null,
            "border": null,
            "align_items": null,
            "bottom": null,
            "_model_module": "@jupyter-widgets/base",
            "top": null,
            "grid_column": null,
            "overflow_y": null,
            "overflow_x": null,
            "grid_auto_flow": null,
            "grid_area": null,
            "grid_template_columns": null,
            "flex": null,
            "_model_name": "LayoutModel",
            "justify_items": null,
            "grid_row": null,
            "max_height": null,
            "align_content": null,
            "visibility": null,
            "align_self": null,
            "height": null,
            "min_height": null,
            "padding": null,
            "grid_auto_rows": null,
            "grid_gap": null,
            "max_width": null,
            "order": null,
            "_view_module_version": "1.2.0",
            "grid_template_areas": null,
            "object_position": null,
            "object_fit": null,
            "grid_auto_columns": null,
            "margin": null,
            "display": null,
            "left": null
          }
        },
        "602e5e21e12643fe9984f382866f6991": {
          "model_module": "@jupyter-widgets/controls",
          "model_name": "DescriptionStyleModel",
          "model_module_version": "1.5.0",
          "state": {
            "_view_name": "StyleView",
            "_model_name": "DescriptionStyleModel",
            "description_width": "",
            "_view_module": "@jupyter-widgets/base",
            "_model_module_version": "1.5.0",
            "_view_count": null,
            "_view_module_version": "1.2.0",
            "_model_module": "@jupyter-widgets/controls"
          }
        },
        "306a4cbe82b441a1a6d2d00d9048e51b": {
          "model_module": "@jupyter-widgets/base",
          "model_name": "LayoutModel",
          "model_module_version": "1.2.0",
          "state": {
            "_view_name": "LayoutView",
            "grid_template_rows": null,
            "right": null,
            "justify_content": null,
            "_view_module": "@jupyter-widgets/base",
            "overflow": null,
            "_model_module_version": "1.2.0",
            "_view_count": null,
            "flex_flow": null,
            "width": null,
            "min_width": null,
            "border": null,
            "align_items": null,
            "bottom": null,
            "_model_module": "@jupyter-widgets/base",
            "top": null,
            "grid_column": null,
            "overflow_y": null,
            "overflow_x": null,
            "grid_auto_flow": null,
            "grid_area": null,
            "grid_template_columns": null,
            "flex": null,
            "_model_name": "LayoutModel",
            "justify_items": null,
            "grid_row": null,
            "max_height": null,
            "align_content": null,
            "visibility": null,
            "align_self": null,
            "height": null,
            "min_height": null,
            "padding": null,
            "grid_auto_rows": null,
            "grid_gap": null,
            "max_width": null,
            "order": null,
            "_view_module_version": "1.2.0",
            "grid_template_areas": null,
            "object_position": null,
            "object_fit": null,
            "grid_auto_columns": null,
            "margin": null,
            "display": null,
            "left": null
          }
        }
      }
    }
  },
  "cells": [
    {
      "cell_type": "code",
      "metadata": {
        "id": "QuFLB2lUSl0H"
      },
      "source": [
        "DATASET_NAME = 'vk'\n",
        "LABELING_OPTION = None\n",
        "MAX_LEN = 60"
      ],
      "execution_count": null,
      "outputs": []
    },
    {
      "cell_type": "code",
      "metadata": {
        "colab": {
          "base_uri": "https://localhost:8080/"
        },
        "id": "1huWwAH6GWEg",
        "outputId": "c9b9a24d-0054-492f-c1f3-d2d8e2181ff3"
      },
      "source": [
        "# YOU CAN COMMENT THIS IF YOU DO NOT USE COLAB\n",
        "from google.colab import drive\n",
        "drive.mount('/content/gdrive')"
      ],
      "execution_count": null,
      "outputs": [
        {
          "output_type": "stream",
          "text": [
            "Mounted at /content/gdrive\n"
          ],
          "name": "stdout"
        }
      ]
    },
    {
      "cell_type": "code",
      "metadata": {
        "id": "cO3wNrrgVJkM"
      },
      "source": [
        "!pip -q install -U sentence-transformers &>/dev/null"
      ],
      "execution_count": null,
      "outputs": []
    },
    {
      "cell_type": "code",
      "metadata": {
        "id": "87T5BetZQYQv"
      },
      "source": [
        "import json\n",
        "import re\n",
        "import os\n",
        "import requests\n",
        "import matplotlib.pyplot as plt\n",
        "import pickle\n",
        "import string\n",
        "import functools\n",
        "import gc\n",
        "from tqdm.notebook import tqdm\n",
        "from collections import Counter\n",
        "\n",
        "import warnings\n",
        "warnings.filterwarnings('ignore')\n",
        "\n",
        "%load_ext autoreload\n",
        "%autoreload 2"
      ],
      "execution_count": null,
      "outputs": []
    },
    {
      "cell_type": "code",
      "metadata": {
        "id": "-XpFHg7vtqw3"
      },
      "source": [
        "import numpy as np\n",
        "import matplotlib.pyplot as plt\n",
        "SEED = 1337\n",
        "np.random.seed(SEED)\n",
        "\n",
        "import random\n",
        "random.seed(SEED)\n",
        "# https://www.sbert.net/docs/pretrained_models.html\n",
        "# from sentence_transformers import SentenceTransformer, util\n",
        "from transformers import AutoTokenizer, AutoModel\n",
        "import torch\n",
        "from torch.utils.data import Dataset, DataLoader\n",
        "from sklearn.cluster import KMeans, AgglomerativeClustering\n",
        "from sklearn.metrics import silhouette_score\n",
        "from sklearn.mixture import GaussianMixture\n",
        "from sklearn.model_selection import train_test_split"
      ],
      "execution_count": null,
      "outputs": []
    },
    {
      "cell_type": "code",
      "metadata": {
        "colab": {
          "base_uri": "https://localhost:8080/"
        },
        "id": "YOckP_sYQcda",
        "outputId": "12880d63-ef58-498f-d8c5-beab1b80f1f8"
      },
      "source": [
        "def download_file_from_google_drive(id, destination):\n",
        "    URL = \"https://docs.google.com/uc?export=download\"\n",
        "\n",
        "    session = requests.Session()\n",
        "\n",
        "    response = session.get(URL, params={'id': id}, stream=True)\n",
        "    token = get_confirm_token(response)\n",
        "\n",
        "    if token:\n",
        "        params = {'id': id, 'confirm': token}\n",
        "        response = session.get(URL, params=params, stream=True)\n",
        "\n",
        "    save_response_content(response, destination)\n",
        "\n",
        "def get_confirm_token(response):\n",
        "    for key, value in response.cookies.items():\n",
        "        if key.startswith('download_warning'):\n",
        "            return value\n",
        "\n",
        "    return None\n",
        "def save_response_content(response, destination):\n",
        "    CHUNK_SIZE = 32768\n",
        "\n",
        "    with open(destination, \"wb\") as f:\n",
        "        for chunk in response.iter_content(CHUNK_SIZE):\n",
        "            if chunk:  # filter out keep-alive new chunks\n",
        "                f.write(chunk)\n",
        "\n",
        "\n",
        "if __name__ == \"__main__\":\n",
        "    if not os.path.exists('data'):\n",
        "        os.mkdir('data')\n",
        "\n",
        "    json_id = '1iCcIlPg3L1J-K0hz4OBnofJ4bq75RK9p'\n",
        "    dest  = 'data/y3_parsed.v3.tags_sep.json'\n",
        "    print('downloading...')\n",
        "    download_file_from_google_drive(json_id, dest)\n",
        "    print('downloaded!')\n",
        "    "
      ],
      "execution_count": null,
      "outputs": [
        {
          "output_type": "stream",
          "text": [
            "downloading...\n",
            "downloaded!\n"
          ],
          "name": "stdout"
        }
      ]
    },
    {
      "cell_type": "markdown",
      "metadata": {
        "id": "ETQ9bVLOqp8p"
      },
      "source": [
        "Мета - словарь с вложенными словарями на каждый внешний ключ"
      ]
    },
    {
      "cell_type": "code",
      "metadata": {
        "id": "F-APuOabXQ9o"
      },
      "source": [
        "# download\n",
        "with open(dest) as fh:\n",
        "    posts = json.load(fh)"
      ],
      "execution_count": null,
      "outputs": []
    },
    {
      "cell_type": "markdown",
      "metadata": {
        "id": "dxJV3MYZfims"
      },
      "source": [
        "https://stackoverflow.com/questions/63483913/classification-for-a-case-with-multiple-labels-per-data-point"
      ]
    },
    {
      "cell_type": "markdown",
      "metadata": {
        "id": "-k8jTZRrYEIb"
      },
      "source": [
        "# Tags saving"
      ]
    },
    {
      "cell_type": "code",
      "metadata": {
        "colab": {
          "base_uri": "https://localhost:8080/"
        },
        "id": "gRc0f-0QYDQG",
        "outputId": "f1ca9c10-f9db-4e2e-a9ed-f6683880e494"
      },
      "source": [
        "# Count the number of occurences of the parsed tags\n",
        "cntr = Counter([x for y in posts['tags_parsed'].values() for x in y])\n",
        "how_many = 15\n",
        "for row in cntr.most_common(how_many):\n",
        "    print(row)\n",
        "\n",
        "cntr = list(cntr.items())\n",
        "missing_tag = 'null'\n",
        "cntr.append((missing_tag, 0))\n",
        "low_labels = []  # теги частотность которых меньше `low_limit` - удаляем\n",
        "low_limit = 0\n",
        "\n",
        "\n",
        "# 5000 for tags, 20000 for classes\n",
        "high_limit = 20000\n",
        "high_count = {}  # теги которые сохраним\n",
        "\n",
        "for k, v in cntr:\n",
        "    # FIXED: before was `v <= low_limit`\n",
        "    if v < low_limit:\n",
        "        low_labels.append(k)\n",
        "    else:\n",
        "        high_count[k] = 0"
      ],
      "execution_count": null,
      "outputs": [
        {
          "output_type": "stream",
          "text": [
            "('Новость', 21454)\n",
            "('#лучшедома', 9775)\n",
            "('Мероприятие', 9162)\n",
            "('Вопрос', 7766)\n",
            "('Благоустройство', 6823)\n",
            "('Настроение', 5636)\n",
            "('Дети', 4389)\n",
            "('Предупреждение', 4214)\n",
            "('Безобразие', 4157)\n",
            "('Здоровье', 3727)\n",
            "('Услуги', 3421)\n",
            "('Водителю', 3029)\n",
            "('Происшествие', 2997)\n",
            "('Совет', 2606)\n",
            "('Спорт', 2541)\n"
          ],
          "name": "stdout"
        }
      ]
    },
    {
      "cell_type": "code",
      "metadata": {
        "colab": {
          "base_uri": "https://localhost:8080/"
        },
        "id": "TgaC32PBTH1j",
        "outputId": "c29072d3-e560-4fe3-e0a4-2c71fe18c913"
      },
      "source": [
        "list(Counter([x for y in posts['tags_parsed'].values() for x in y]).keys()).__len__()"
      ],
      "execution_count": null,
      "outputs": [
        {
          "output_type": "execute_result",
          "data": {
            "text/plain": [
              "47"
            ]
          },
          "metadata": {
            "tags": []
          },
          "execution_count": 9
        }
      ]
    },
    {
      "cell_type": "code",
      "metadata": {
        "id": "FmlB9u-zYIw7"
      },
      "source": [
        "raw_sents = [sent for sent in list(posts['text'].values())]\n",
        "raw_tags = [tag for tag in list(posts['tags_parsed'].values())]"
      ],
      "execution_count": null,
      "outputs": []
    },
    {
      "cell_type": "code",
      "metadata": {
        "id": "vTyOyJOKPLS0"
      },
      "source": [
        "def remove_duplicates(raw_sents, raw_tags):\n",
        "    d = {}\n",
        "    for s, t in zip(raw_sents, raw_tags):\n",
        "        if s not in d:\n",
        "            d[s] = t\n",
        "    unique_raw_sents = list(d.keys())\n",
        "    unique_raw_tags = list(d.values())\n",
        "    return unique_raw_sents, unique_raw_tags"
      ],
      "execution_count": null,
      "outputs": []
    },
    {
      "cell_type": "code",
      "metadata": {
        "id": "cEuveiUyPrAr"
      },
      "source": [
        "raw_sents, raw_tags = remove_duplicates(raw_sents, raw_tags)"
      ],
      "execution_count": null,
      "outputs": []
    },
    {
      "cell_type": "code",
      "metadata": {
        "colab": {
          "base_uri": "https://localhost:8080/"
        },
        "id": "rZEqrvJPvFxL",
        "outputId": "9b9285b0-cc47-49f4-f536-286dc843c671"
      },
      "source": [
        "i = 3\n",
        "\n",
        "for i in range(i - 2, i + 2):\n",
        "    print(raw_sents[i])\n",
        "    print(raw_tags[i])\n",
        "    print()"
      ],
      "execution_count": null,
      "outputs": [
        {
          "output_type": "stream",
          "text": [
            "Ланское шоссе 16/2 не моют лестницы. Очень грязно. Где профилактика, о которой говорят по телевидению?\n",
            "['#лучшедома']\n",
            "\n",
            "Кемеровчанин заплатил двойную цену за эвакуацию на родину с Украины<br/><br/>Кемеровчанину Антону Галееву, из-за семейных обстоятельств оказавшемуся в Украине в разгар пандемии коронавируса, пришлось дважды заплатить за возвращение домой.<br/><br/><a class=\"link\" href=\"https://vse42.ru/news/31158171\" rel=\"nofollow noreferrer noopener\" target=\"_blank\">https://vse42.ru/news/31158171</a>\n",
            "['#лучшедома']\n",
            "\n",
            "Смотрите, что происходит на площади Куйбышева! Новым годом уже пахнет вовсю! Соседи, а у вас новогоднее настроение есть? Или может у вас рядом с домом уже тоже украшения поставили новогодние?<br/>Фото: Светлана Маковеева\n",
            "['Новость', 'Настроение', 'Благоустройство']\n",
            "\n",
            "Сегодня увидела в 2ГИС, что можно искать лекарства на карте.<br/>Очень помогает понимать где что есть и сколько стоит. Особенно в условиях когда хочется с первого раза найти аптеке то что нужно и по хорошей цене\n",
            "['Найдено', 'Совет', 'Лайфхак']\n",
            "\n"
          ],
          "name": "stdout"
        }
      ]
    },
    {
      "cell_type": "markdown",
      "metadata": {
        "id": "-937CsezYJWL"
      },
      "source": [
        "# Data preprocessing"
      ]
    },
    {
      "cell_type": "code",
      "metadata": {
        "colab": {
          "base_uri": "https://localhost:8080/"
        },
        "id": "xalsFDNyQp66",
        "outputId": "4c79b375-2b75-427c-b10d-f1364196842f"
      },
      "source": [
        "import nltk\n",
        "from nltk.corpus import stopwords\n",
        "nltk.download('stopwords')\n",
        "\n",
        "def de_emojify(text):\n",
        "    regrex_pattern = re.compile(pattern = \"[\"\n",
        "        u\"\\U0001F600-\\U0001F64F\"  # emoticons\n",
        "        u\"\\U0001F300-\\U0001F5FF\"  # symbols & pictographs\n",
        "        u\"\\U0001F680-\\U0001F6FF\"  # transport & map symbols\n",
        "        u\"\\U0001F1E0-\\U0001F1FF\"  # flags (iOS)\n",
        "                           \"]+\", flags = re.UNICODE)\n",
        "    return regrex_pattern.sub(r' ', text)\n",
        "\n",
        "\n",
        "extras = ['а', 'б', 'в', 'г', 'д', 'е', 'ж', 'з', 'и', 'й', 'к', 'л', 'м', 'н', 'о', 'п', 'р', 'с',\n",
        "          'т', 'у', 'ф', 'х', 'ц', 'ч', 'ш', 'щ', 'ь', 'ъ', 'э', 'ю', 'я',\n",
        "          'этот', 'эти', 'эта', 'это', 'также', 'так', 'тот', 'потом', 'же']\n",
        "\n",
        "\n",
        "def process_text(text,\n",
        "                 tags,\n",
        "                 text_part=1,\n",
        "                 min_word_size=4,\n",
        "                 min_sent_size=5,\n",
        "                 max_sent_size=None,\n",
        "                 extra_stop=None):\n",
        "    # HOW TO REMOVE UNCLOSED HTML TAGS ---> https://datadependence.com/2016/03/find-unclosed-tags-using-stacks/\n",
        "    html_cleaner = re.compile('<.*?>')\n",
        "    cyrillic = re.compile(r'[^а-яА-Я0-9 ]')\n",
        "    esc_punctuation = re.compile('[%s]' % re.escape(string.punctuation))  # let's try not to remove punctuation\n",
        "    extra_spaces = re.compile(r'\\s{2,}')\n",
        "    stop_list = stopwords.words('russian')\n",
        "\n",
        "    if extra_stop:\n",
        "        stop_list.extend(extra_stop)\n",
        "    \n",
        "    n_sents = int(len(text) * text_part)\n",
        "    random_idxs = np.random.randint(0, len(text), n_sents)\n",
        "    text = np.asarray(text)[random_idxs]\n",
        "    tags = np.asarray(tags)[random_idxs]\n",
        "    for i in tqdm(range(n_sents)):\n",
        "        # html removal\n",
        "        text[i] = html_cleaner.sub(' ', text[i]) # there's NO NoneType error\n",
        "        # punctuation and numbers removal\n",
        "        # text[i] = esc_punctuation.sub(' ', text[i])\n",
        "        \n",
        "        # leaving only cyrillic words\n",
        "        text[i] = cyrillic.sub(' ', text[i])\n",
        "\n",
        "        # remove emojis\n",
        "        text[i] = de_emojify(text[i])\n",
        "\n",
        "        # extra spacing\n",
        "        text[i] = extra_spaces.sub(' ', text[i])\n",
        "       \n",
        "        # LOWERING REMOVED\n",
        "        # stopwords removal + lowercasing + limitations to the number of words in a sentence ([:max_sent_size])\n",
        "        if max_sent_size:\n",
        "            text[i] = ' '.join([word for word in text[i].split()[:max_sent_size] \\\n",
        "                                            if len(word) >= min_word_size])# and word not in stop_list])\n",
        "        # max sent is allowed\n",
        "        else:\n",
        "            text[i] = ' '.join([word for word in text[i].split() \\\n",
        "                                            if len(word) >= min_word_size])# and word not in stop_list])\n",
        "    text_to_save = []\n",
        "    tags_to_save = []\n",
        "    for sent, tag in zip(text, tags):\n",
        "        if len(sent) >= min_sent_size:\n",
        "            text_to_save.append(sent)\n",
        "            tags_to_save.append(tag)\n",
        "    return text_to_save, tags_to_save"
      ],
      "execution_count": null,
      "outputs": [
        {
          "output_type": "stream",
          "text": [
            "[nltk_data] Downloading package stopwords to /root/nltk_data...\n",
            "[nltk_data]   Unzipping corpora/stopwords.zip.\n"
          ],
          "name": "stdout"
        }
      ]
    },
    {
      "cell_type": "code",
      "metadata": {
        "colab": {
          "base_uri": "https://localhost:8080/",
          "height": 66,
          "referenced_widgets": [
            "d125ab7cb6ba409381777d7238cfdee7",
            "28b574dedfe94d768733bfd65bb876f2",
            "da9a12f5e9d54eb2bcec5cf556bae141",
            "14195fdaca04424dab753e423b6e2040",
            "295eab481f8f4891a7caac80b0215f4a",
            "18e1c949786b4b77acdc14a5377c9ba8",
            "61a3b3a751dc4cb08194ce4c59407573",
            "6ef4c57798fc4cb9b870823fa4ac2a58"
          ]
        },
        "id": "beJ_3jq4JkDD",
        "outputId": "15c30fa7-653c-4eb5-b5f7-487111d89349"
      },
      "source": [
        "corpus, tags = process_text(raw_sents,\n",
        "                            raw_tags,\n",
        "                            text_part=1,\n",
        "                            min_word_size=1,\n",
        "                            max_sent_size=MAX_LEN)"
      ],
      "execution_count": null,
      "outputs": [
        {
          "output_type": "display_data",
          "data": {
            "application/vnd.jupyter.widget-view+json": {
              "model_id": "d125ab7cb6ba409381777d7238cfdee7",
              "version_minor": 0,
              "version_major": 2
            },
            "text/plain": [
              "HBox(children=(FloatProgress(value=0.0, max=59882.0), HTML(value='')))"
            ]
          },
          "metadata": {
            "tags": []
          }
        },
        {
          "output_type": "stream",
          "text": [
            "\n"
          ],
          "name": "stdout"
        }
      ]
    },
    {
      "cell_type": "code",
      "metadata": {
        "colab": {
          "base_uri": "https://localhost:8080/"
        },
        "id": "XOyiH13oFtc5",
        "outputId": "5143bc7c-7af4-4545-ea78-92b0a3077f56"
      },
      "source": [
        "print(len(corpus), len(tags), len(set(corpus)))"
      ],
      "execution_count": null,
      "outputs": [
        {
          "output_type": "stream",
          "text": [
            "59632 59632 37593\n"
          ],
          "name": "stdout"
        }
      ]
    },
    {
      "cell_type": "code",
      "metadata": {
        "id": "KPDzdTYTRHh4"
      },
      "source": [
        "# еще раз удалим повторные предложения\n",
        "# после препроцессинга некоторые предложения стали одинаковыми\n",
        "corpus, tags = remove_duplicates(corpus, tags)"
      ],
      "execution_count": null,
      "outputs": []
    },
    {
      "cell_type": "code",
      "metadata": {
        "colab": {
          "base_uri": "https://localhost:8080/"
        },
        "id": "9JPalZH7PLkN",
        "outputId": "cda1b870-869b-4884-c0d4-f94469c00d1c"
      },
      "source": [
        "print(len(corpus), len(tags), len(set(corpus)))"
      ],
      "execution_count": null,
      "outputs": [
        {
          "output_type": "stream",
          "text": [
            "37593 37593 37593\n"
          ],
          "name": "stdout"
        }
      ]
    },
    {
      "cell_type": "code",
      "metadata": {
        "id": "zOnh_gUmdFMk"
      },
      "source": [
        "def form_1d_lists(sents, raw_tags, missing_tag=missing_tag, include_missing_tags=True):\n",
        "    sents_to_save = []\n",
        "    random_tags = []\n",
        "    all_tags = []\n",
        "\n",
        "    for s, ts in zip(sents, tags):\n",
        "        # убираем случаи, когда `None in ts`\n",
        "        ts = list(filter(lambda x: x, ts))\n",
        "        # тега нет, i.e. []\n",
        "\n",
        "        if not ts and include_missing_tags:\n",
        "            t = missing_tag\n",
        "            ts = [missing_tag]  # для проверки тимура\n",
        "        # только один тег\n",
        "        elif len(ts) == 1:\n",
        "            t = ts[0]\n",
        "        # тегов > 1\n",
        "        elif len(ts) > 1:\n",
        "            while len(ts) > 1:\n",
        "                # случай нескольких тегов\n",
        "                t = np.random.choice(ts, 1)[0]\n",
        "                ts.remove(t)\n",
        "                if high_count[t] < high_limit:\n",
        "                    break\n",
        "        else:\n",
        "            continue\n",
        "\n",
        "        if high_count[t] < high_limit:\n",
        "            high_count[t] += 1\n",
        "            sents_to_save.append(s)\n",
        "            random_tags.append(t)\n",
        "            all_tags.append(ts)\n",
        "\n",
        "    \n",
        "    return sents, random_tags, all_tags"
      ],
      "execution_count": null,
      "outputs": []
    },
    {
      "cell_type": "markdown",
      "metadata": {
        "id": "MFlHbZrLdWE7"
      },
      "source": [
        "```python\n",
        "1.\n",
        "    include_missing_tags=False\n",
        "    используется для базовой классификации тегов / классов, то есть без использования кластеризации\n",
        "2.\n",
        "    include_missing_tags=True\n",
        "    используется для классификации с предварительной перетасовкой тегов кластеризацией\n",
        "```"
      ]
    },
    {
      "cell_type": "code",
      "metadata": {
        "colab": {
          "base_uri": "https://localhost:8080/"
        },
        "id": "cen2gIfND773",
        "outputId": "0620d1ea-982a-4c53-c70a-9049529e7c62"
      },
      "source": [
        "sents, tags, all_tags = form_1d_lists(corpus, tags, include_missing_tags=True)\n",
        "\n",
        "len(tags), len(sents)"
      ],
      "execution_count": null,
      "outputs": [
        {
          "output_type": "execute_result",
          "data": {
            "text/plain": [
              "(37593, 37593)"
            ]
          },
          "metadata": {
            "tags": []
          },
          "execution_count": 24
        }
      ]
    },
    {
      "cell_type": "code",
      "metadata": {
        "colab": {
          "base_uri": "https://localhost:8080/"
        },
        "id": "2UCY1vfv-F3s",
        "outputId": "3435065f-cdb9-4ba1-f806-6f07a63eecd8"
      },
      "source": [
        "np.unique(np.asarray(tags)).size"
      ],
      "execution_count": null,
      "outputs": [
        {
          "output_type": "execute_result",
          "data": {
            "text/plain": [
              "47"
            ]
          },
          "metadata": {
            "tags": []
          },
          "execution_count": 25
        }
      ]
    },
    {
      "cell_type": "markdown",
      "metadata": {
        "id": "ZgIRy8zW6oD7"
      },
      "source": [
        "### Загрузка новой разметки"
      ]
    },
    {
      "cell_type": "code",
      "metadata": {
        "id": "QDvTtpfTJRUw"
      },
      "source": [
        "if DATASET_NAME == 'vk':\n",
        "    DATASET_PATH = f'/content/gdrive/MyDrive/RealEstate/sem_4/Final/gmm_new_{DATASET_NAME}.npy'\n",
        "else:\n",
        "    DATASET_PATH = f'/content/gdrive/MyDrive/RealEstate/sem_4/Final/gmm_new_{DATASET_NAME}_{LABELING_OPTION}.npy'\n",
        "\n",
        "dataset = np.load(file=DATASET_PATH,\n",
        "                  allow_pickle=True)"
      ],
      "execution_count": null,
      "outputs": []
    },
    {
      "cell_type": "code",
      "metadata": {
        "id": "civfDGumzn7s"
      },
      "source": [
        "import textwrap\n",
        "\n",
        "init = np.zeros((len(corpus), 2), dtype='object')\n",
        "for i, (sent, tag) in enumerate(zip(corpus, tags)):\n",
        "    init[i] = [sent, tag]\n",
        "\n",
        "idxs = np.where(init[:, 1] != 'null')[0]\n",
        "init = init[idxs]\n",
        "\n",
        "\n",
        "\n",
        "\n",
        "\n"
      ],
      "execution_count": null,
      "outputs": []
    },
    {
      "cell_type": "code",
      "metadata": {
        "id": "vQhr2pqzxci8",
        "colab": {
          "base_uri": "https://localhost:8080/"
        },
        "outputId": "e5eecb15-c78b-434a-8dbf-1bf05e3dc381"
      },
      "source": [
        "i = int(input()) # от 0 до 37592\n",
        "\n",
        "print(f'Предложение: ', end='\\n')\n",
        "print(\"\\n\".join(textwrap.wrap(init[i, 0], 100)))\n",
        "print()\n",
        "\n",
        "print(f'лейбл до: {init[i, 1]}\\n')\n",
        "print(f'лейбл после: {dataset[idxs][i, 1]}')"
      ],
      "execution_count": null,
      "outputs": [
        {
          "output_type": "stream",
          "text": [
            "847\n",
            "Предложение: \n",
            "Фестиваль коллекционных автомобилей РетроФест пройдет в парке Сокольники Любители всего старинного\n",
            "смогут посетить выставку ретро автомобилей которая будет проходить в течение двух дней в парке\n",
            "Сокольники Время работы фестиваля 26 и 27 августа с 10 00 до 21 00 Посетить его можно будет\n",
            "абсолютно бесплатно\n",
            "\n",
            "лейбл до: Водителю\n",
            "\n",
            "лейбл после: Мероприятие\n"
          ],
          "name": "stdout"
        }
      ]
    },
    {
      "cell_type": "code",
      "metadata": {
        "id": "tUZkv94Zof8P"
      },
      "source": [
        "\n",
        "\n",
        "\n"
      ],
      "execution_count": null,
      "outputs": []
    },
    {
      "cell_type": "markdown",
      "metadata": {
        "id": "bPtYkCqTelQi"
      },
      "source": [
        "## Train / test сплит\n",
        "\n",
        "1. находим предложения с ненулевым тегом (классом) $\\Rightarrow$ df\n",
        "2. df разбиваем на трейн сплит $\\Rightarrow$ train, test\n",
        "3. train будет участвовать в выборе самого часто встречающегося тега для кластера"
      ]
    },
    {
      "cell_type": "markdown",
      "metadata": {
        "id": "RHfdk5TKS5Fj"
      },
      "source": [
        "## Save BASE labels (no clustering)"
      ]
    },
    {
      "cell_type": "code",
      "metadata": {
        "id": "GxtjGWQ_RKWA"
      },
      "source": [
        "sent_tag_no_clust = np.zeros((len(corpus), 2), dtype='object')\n",
        "for i in range(len(sent_tag_no_clust)):\n",
        "        sent_tag_no_clust[i] = [corpus[i], tags[i]]\n",
        "\n",
        "# if DATASET_NAME == 'vk':\n",
        "#     np.save(f'/content/gdrive/MyDrive/RealEstate/sem_4/Final/gmm_old_{DATASET_NAME}', sent_tag_no_clust)\n",
        "# else:\n",
        "#     np.save(f'/content/gdrive/MyDrive/RealEstate/sem_4/Final/gmm_old_{DATASET_NAME}_{LABELING_OPTION}', sent_tag_no_clust)"
      ],
      "execution_count": null,
      "outputs": []
    },
    {
      "cell_type": "code",
      "metadata": {
        "colab": {
          "base_uri": "https://localhost:8080/"
        },
        "id": "2163AACV1gBC",
        "outputId": "84bef212-208c-42e2-d635-53b0147df6d6"
      },
      "source": [
        "(sent_tag_no_clust[:, 1] != 'null').sum()"
      ],
      "execution_count": null,
      "outputs": [
        {
          "output_type": "execute_result",
          "data": {
            "text/plain": [
              "37593"
            ]
          },
          "metadata": {
            "tags": []
          },
          "execution_count": 49
        }
      ]
    },
    {
      "cell_type": "markdown",
      "metadata": {
        "id": "s22Egz35tszm"
      },
      "source": [
        "# Activate CUDA"
      ]
    },
    {
      "cell_type": "code",
      "metadata": {
        "colab": {
          "base_uri": "https://localhost:8080/"
        },
        "id": "FtlwI48lGrIC",
        "outputId": "c0e2a59c-8f29-4701-b5dd-cc51c5616101"
      },
      "source": [
        "# If there's a GPU available...\n",
        "if torch.cuda.is_available():    \n",
        "    # Tell PyTorch to use the GPU.    \n",
        "    device = torch.device(\"cuda\")\n",
        "    print('There are %d GPU(s) available.' % torch.cuda.device_count())\n",
        "    print('We will use the GPU:', torch.cuda.get_device_name(0))\n",
        "\n",
        "# If not...\n",
        "else:\n",
        "    print('No GPU available, using the CPU instead.')\n",
        "    device = torch.device(\"cpu\")"
      ],
      "execution_count": null,
      "outputs": [
        {
          "output_type": "stream",
          "text": [
            "There are 1 GPU(s) available.\n",
            "We will use the GPU: Tesla K80\n"
          ],
          "name": "stdout"
        }
      ]
    },
    {
      "cell_type": "code",
      "metadata": {
        "id": "Y7UGPEnnHmei"
      },
      "source": [
        "embedder = AutoModel.from_pretrained(\"DeepPavlov/rubert-base-cased-sentence\")\n",
        "embedder = embedder.to(device)\n",
        "\n",
        "tokenizer = AutoTokenizer.from_pretrained(\"DeepPavlov/rubert-base-cased-sentence\")"
      ],
      "execution_count": null,
      "outputs": []
    },
    {
      "cell_type": "markdown",
      "metadata": {
        "id": "AdzdOSqfSDuJ"
      },
      "source": [
        "# Base class"
      ]
    },
    {
      "cell_type": "code",
      "metadata": {
        "id": "3qsqsO_zKoI2"
      },
      "source": [
        "import time\n",
        "\n",
        "class Base(Dataset):\n",
        "    def __init__(self, corpus=corpus, tags=tags, max_len=42):\n",
        "        self.corpus = corpus\n",
        "        self.tags = tags\n",
        "        self.max_len = max_len\n",
        "        self.data_loader = None\n",
        "        self.corpus_embeddings = None\n",
        "\n",
        "    def __len__(self):\n",
        "        return len(self.corpus)\n",
        "\n",
        "    def tokenize(self):\n",
        "        self.encoded_input = tokenizer(self.corpus,\n",
        "                                    return_token_type_ids=False,\n",
        "                                    pad_to_max_length=True,\n",
        "                                    return_attention_mask=True,\n",
        "                                    return_tensors='pt',\n",
        "                                    truncation=True,\n",
        "                                    max_length=self.max_len)\n",
        "        return self\n",
        "\n",
        "        \n",
        "\n",
        "    def __getitem__(self, item):\n",
        "        return {\n",
        "            'input_ids': self.encoded_input['input_ids'][item].flatten(),  # important to flatten [1, max_length] --> [max_length]\n",
        "            'attention_mask': self.encoded_input['attention_mask'][item].flatten()\n",
        "        }\n",
        "\n",
        "    def create_data_loader(self, batch_size=16):\n",
        "        self.data_loader = DataLoader(\n",
        "                                    self,\n",
        "                                    batch_size=batch_size,\n",
        "                                    num_workers=4\n",
        "                                    )\n",
        "        return self\n",
        "\n",
        "    def mean_pooling(self, model_output, attention_mask):\n",
        "        torch.cuda.empty_cache()\n",
        "        gc.collect()\n",
        "        # float32 -> float16\n",
        "        attention_mask = attention_mask.to(device)  # if cpu is set for model_output\n",
        "        input_mask_expanded = attention_mask.unsqueeze(-1).expand(model_output.size()).half()  # .float()\n",
        "        assert(input_mask_expanded.dtype == torch.float16)\n",
        "        cur = model_output * input_mask_expanded\n",
        "        model_output = None\n",
        "        torch.cuda.empty_cache()\n",
        "        gc.collect()\n",
        "        sum_embeddings = torch.sum(cur, 1)\n",
        "        sum_mask = torch.clamp(input_mask_expanded.sum(1), min=1e-9)\n",
        "        return sum_embeddings / sum_mask\n",
        "\n",
        "    def make_embeddings(self, queries=None):\n",
        "        model_output = None\n",
        "        start = time.time()\n",
        "        assert(self.data_loader is not None)\n",
        "        with torch.no_grad():\n",
        "            for batch in tqdm(self.data_loader):\n",
        "                input_ids = batch['input_ids'].to(device)\n",
        "                attention_mask = batch['attention_mask'].to(device)\n",
        "                batch_output = embedder(input_ids=input_ids,\n",
        "                                        attention_mask=attention_mask)\n",
        "                # float32 to float16\n",
        "                for k in batch_output:\n",
        "                    batch_output[k] = batch_output[k].half()\n",
        "                # first batch\n",
        "                if not model_output:\n",
        "                    model_output = batch_output\n",
        "                # concat with the previous result\n",
        "                else:\n",
        "                    model_output['last_hidden_state'] = torch.cat((model_output['last_hidden_state'],\n",
        "                                                                batch_output['last_hidden_state']))\n",
        "                    model_output['pooler_output'] = torch.cat((model_output['pooler_output'],\n",
        "                                                            batch_output['pooler_output']))\n",
        "\n",
        "\n",
        "        model_output = model_output[0]#.cpu() # First element of model_output contains all token embeddings\n",
        "        del self.encoded_input['input_ids']\n",
        "\n",
        "        torch.cuda.empty_cache()\n",
        "        gc.collect()\n",
        "\n",
        "        self.corpus_embeddings = self.mean_pooling(model_output, self.encoded_input['attention_mask']) ###########\n",
        "        self.encoded_input = None\n",
        "        model_output = None\n",
        "        torch.cuda.empty_cache()\n",
        "        gc.collect()\n",
        "\n",
        "        self.corpus_embeddings = self.corpus_embeddings.cpu()\n",
        "\n",
        "        finish = time.time()\n",
        "        total = finish - start\n",
        "        print(f'Time taken: {int(total // 60)} minutes and {int(total % 60)} seconds')\n",
        "        \n",
        "        return self"
      ],
      "execution_count": null,
      "outputs": []
    },
    {
      "cell_type": "markdown",
      "metadata": {
        "id": "eAMlN0GB3SjZ"
      },
      "source": [
        "# Clustering"
      ]
    },
    {
      "cell_type": "code",
      "metadata": {
        "id": "bjc1rE44Wco3"
      },
      "source": [
        "# GET indices from train_test_split\n",
        "# https://towardsdatascience.com/3-things-you-need-to-know-before-you-train-test-split-869dfabb7e50\n",
        "def get_train_test(corpus, tags, test_size=0.2):\n",
        "    df = np.zeros((len(corpus), 2), dtype='object')\n",
        "    for i, (sent, tag) in enumerate(zip(corpus, tags)):\n",
        "        df[i] = [sent, tag]\n",
        "\n",
        "    # выбираем индексы предложений, для которых есть тег\n",
        "    idxs = np.where(df[:, 1] != 'null')[0]  # [0] чтобы достать массив индексов\n",
        "    X, y = df[:, 0], df[:, 1]\n",
        "    train_indices, test_indices = train_test_split(idxs, test_size=0.2, shuffle=True, random_state=42)\n",
        "    X_train, X_test = X[train_indices], X[test_indices]\n",
        "    y_train, y_test = y[train_indices], y[test_indices] \n",
        "    return X_train, X_test, y_train, y_test, train_indices, test_indices"
      ],
      "execution_count": null,
      "outputs": []
    },
    {
      "cell_type": "code",
      "metadata": {
        "id": "ZJKOmdi8V5m9"
      },
      "source": [
        "class Clustering(Base):\n",
        "\n",
        "    def cluster(self, model_class, min_n_clusters, max_n_clusters, **model_params):\n",
        "        '''\n",
        "        cluster sentences with self.best_k chosen by self.choose_best_k\n",
        "        '''\n",
        "        self.X_train, self.X_test, \\\n",
        "        self.y_train, self.y_test, \\\n",
        "        self.train_idxs, self.test_idxs = get_train_test(self.corpus, self.tags)\n",
        "        arr = np.zeros((len(self.corpus), 2), dtype='object')\n",
        "        for i, (sent, tag) in enumerate(zip(self.corpus, self.tags)):\n",
        "            arr[i] = [sent, tag]\n",
        "        self.model = self.choose_best_k(model_class,\n",
        "                                   min_n_clusters,\n",
        "                                   max_n_clusters,\n",
        "                                   **model_params)\n",
        "        print(f'Clustering with the best k = {self.best_k}')\n",
        "        self.model.fit(self.corpus_embeddings)\n",
        "        print('#### DONE ####')        \n",
        "        # получение номеров кластеров для всех предложений\n",
        "        self.cluster_labels = self.model.predict(self.corpus_embeddings)\n",
        "        # сохраним каждый кластер предложений (с тегами) в отдельном списке\n",
        "        self.clustered_sentences_with_tags = [[] for i in range(self.best_k)]\n",
        "        # добавляем пару (предложение, исходный тег)\n",
        "        for sentence_id, cluster_id in enumerate(self.cluster_labels):\n",
        "            self.clustered_sentences_with_tags[cluster_id].append(arr[sentence_id])\n",
        "    \n",
        "        self.clustered_sentences_with_tags = np.array([np.array(self.clustered_sentences_with_tags[i]) \\\n",
        "                                                                for i in range(self.best_k)])\n",
        "        return self\n",
        "\n",
        "    def choose_best_k(self, model_class, min_n_clusters, max_n_clusters, **model_params):\n",
        "        K = range(min_n_clusters, max_n_clusters + 1)\n",
        "        models = []  # stores all K models\n",
        "        for k in K:\n",
        "            print(f'Running with k = {k}')\n",
        "            models.append(model_class(k, **model_params).fit(self.corpus_embeddings))\n",
        "            print(f\"\\tDone for k = {k}\")\n",
        "        start = time.time()\n",
        "\n",
        "        cluster_labels = [m.predict(self.corpus_embeddings) for m in models]\n",
        "\n",
        "        silhouette_avgs = [silhouette_score(X=self.corpus_embeddings, labels=cluster_label) \\\n",
        "                            for cluster_label in cluster_labels]\n",
        "        sil_k_avg_dict = []\n",
        "        for k, sil_avg in zip(list(K), silhouette_avgs):\n",
        "            sil_k_avg_dict.append(\n",
        "                {\n",
        "                    'savg': sil_avg, \n",
        "                    'n_clusts': k\n",
        "                })\n",
        "        finish = time.time()\n",
        "        total = finish - start\n",
        "        print(f'Time taken: {int(total // 60)} minutes and {int(total % 60)} seconds')\n",
        "        self.sil_avgs = sorted(sil_k_avg_dict, key=lambda elem: elem['savg'], reverse=True)\n",
        "        self.best_k = self.sil_avgs[0]['n_clusts']\n",
        "        return model_class(self.best_k, **model_params)\n",
        "\n",
        "    def create_dominant_tags_in_clusters(self):\n",
        "        '''\n",
        "        возвращает словарь:\n",
        "        ключ - строка cluster_<номер_кластера>\n",
        "        значение - самый встречающийся тег в данном кластере\n",
        "        '''\n",
        "        dominant_tag_in_clusters = {}\n",
        "\n",
        "        for i in range(self.best_k):\n",
        "            cluster_sents = c.clustered_sentences_with_tags[i][:, 0]\n",
        "            cluster_tags = c.clustered_sentences_with_tags[i][:, 1]\n",
        "\n",
        "            # достаем индексы предложений, которые входят в self.X_train\n",
        "            cluster_train_indices = np.in1d(cluster_sents, self.X_train)\n",
        "            cluster_tags = cluster_tags[cluster_train_indices]\n",
        "            dominant_tag_in_clusters['cluster_' + str(i)] = \\\n",
        "                                    Counter(cluster_tags).most_common(1)[0][0]\n",
        "        return dominant_tag_in_clusters\n",
        "\n",
        "    def assign_major_cluster_label(self):\n",
        "        '''\n",
        "        создает нампай массив:\n",
        "        первая колонка - исходный текст\n",
        "        вторая - новый тег (по большинству из кластера)\n",
        "        '''\n",
        "        dct = self.create_dominant_tags_in_clusters()\n",
        "        arr = np.zeros((len(self.corpus), 2), dtype='object')\n",
        "        sents_added = arr[:, 0]  # ссылка на предложения (нулевая колонка в массиве arr)\n",
        "        for i, sent_tag in enumerate(self.corpus):\n",
        "            cur_sent = self.corpus[i]\n",
        "            if cur_sent not in sents_added:\n",
        "                cluster_num = self.cluster_labels[i]\n",
        "                arr[i] = [self.corpus[i], dct['cluster_' + str(cluster_num)]]\n",
        "\n",
        "        arr = arr[arr[:, 0] != 0]  # нули, потому что arr - матрица нулей\n",
        "        assert(len(arr) == len(set(self.corpus)))\n",
        "        return arr\n",
        "\n",
        "    def save_numpy_object(self, filename: str):\n",
        "        np.save(filename, self.assign_major_cluster_label())\n",
        "\n",
        "    def save_embeddings(self):\n",
        "        dct = self.create_dominant_tags_in_clusters()\n",
        "        arr = np.zeros((len(self.corpus_embeddings), 2), dtype='object')\n",
        "        for i, sent_tag in enumerate(self.corpus_embeddings):\n",
        "            cluster_num = self.cluster_labels[i]\n",
        "            arr[i] = [self.self_embeddings[i], dct['cluster_' + str(cluster_num)]]\n",
        "        if DATASET_NAME == 'vk':\n",
        "            np.save(f'/content/gdrive/MyDrive/RealEstate/sem_4/Final/emb_gmm_new_{DATASET_NAME}')\n",
        "        else:\n",
        "            np.save(f'/content/gdrive/MyDrive/RealEstate/sem_4/Final/emb_gmm_new_{DATASET_NAME}_{LABELING_OPTION}')\n",
        "        return arr\n",
        "\n",
        "    def create_tag_dict(self):\n",
        "        '''\n",
        "        сейчас используется только в self.plot_distro_of_clusters_in_single_tag\n",
        "        для подсчета распределения того, какие кластеры попали в определенный тег\n",
        "        '''\n",
        "        res = {}\n",
        "        for tag, cl_label in zip(self.tags, self.cluster_labels):\n",
        "            res.setdefault(tag, []).append(cl_label) \n",
        "        return res\n",
        "\n",
        "    def plot_distro_of_clusters_in_single_tag(self):\n",
        "        '''\n",
        "        подсчет распределения различных кластеров в одном теге\n",
        "        '''\n",
        "        n_axes = len(Counter(self.tags).keys())\n",
        "        fig, axes = plt.subplots(nrows=n_axes, ncols=1, figsize=(n_axes * 4, n_axes * 5))# figsize=(20, n_axes * 10))\n",
        "        distro = self.create_tag_dict()\n",
        "        distro = list(distro.items())\n",
        "        for i, ax in enumerate(axes):\n",
        "            tag_clusters_counter = Counter(distro[i][1]).most_common()\n",
        "            tag_clusters_counter = sorted(tag_clusters_counter, key=lambda x: x[0])\n",
        "            tag_clusters_counter = dict(tag_clusters_counter)\n",
        "            ax.set_title(f'Tag: {distro[i][0]}')\n",
        "            x_labels = tag_clusters_counter.keys()\n",
        "            ax.bar(tag_clusters_counter.keys(), tag_clusters_counter.values())\n",
        "            ax.set_xticks(np.arange(0, self.best_k))\n",
        "            ax.set_xticklabels(x_labels, rotation=90)\n",
        "            plt.tight_layout()\n",
        "        if DATASET_NAME == 'vk':\n",
        "            plt.savefig(f'/content/gdrive/MyDrive/RealEstate/sem_4/Final/clusters_in_tags_{DATASET_NAME}', dpi=300)\n",
        "        else:\n",
        "            plt.savefig(f'/content/gdrive/MyDrive/RealEstate/sem_4/Final/clusters_in_tags_{DATASET_NAME}_{LABELING_OPTION}', dpi=300)\n",
        "\n",
        "    def plot_distro_of_tags_in_single_cluster(self):\n",
        "        '''\n",
        "        подсчет распределения различных тегов в одном кластере\n",
        "        '''\n",
        "        fig, axes = plt.subplots(nrows=self.best_k, ncols=1, figsize=(40, self.best_k * 10))\n",
        "        for i, ax in enumerate(axes):\n",
        "            cluster_tags_counter = Counter(np.array(self.clustered_sentences_with_tags[i])[:, 1]).most_common()\n",
        "            cluster_tags_counter = sorted(cluster_tags_counter, key=lambda x: x[0])[1:]\n",
        "            cluster_tags_counter = dict(cluster_tags_counter)\n",
        "            ax.set_title(f'Cluster # {i}')\n",
        "            ax.set_xlabel('Tags')\n",
        "            x_labels = cluster_tags_counter.keys()\n",
        "            ax.bar(x_labels, cluster_tags_counter.values())\n",
        "            ax.set_xticklabels(x_labels, rotation=90)\n",
        "        fig.tight_layout()\n",
        "\n",
        "        if DATASET_NAME == 'vk':\n",
        "            plt.savefig(f'/content/gdrive/MyDrive/RealEstate/sem_4/Final/tags_in_clusters_{DATASET_NAME}', dpi=300)\n",
        "        else:\n",
        "            plt.savefig(f'/content/gdrive/MyDrive/RealEstate/sem_4/Final/tags_in_clusters_{DATASET_NAME}_{LABELING_OPTION}', dpi=300)\n",
        "\n",
        "    def write_clustering(self, filename='file.txt'):\n",
        "        res = {}\n",
        "        sent_tag_array = self.assign_major_cluster_label()\n",
        "        for sent, tag in sent_tag_array:\n",
        "            res.setdefault(tag, []).append(sent) \n",
        "        with open(filename, 'w') as fh:\n",
        "            for cluster in res:\n",
        "                fh.write(f'Клаcтер # {cluster} #\\n\\n')\n",
        "                for sent in res[cluster]:\n",
        "                    fh.write(sent+'\\n')"
      ],
      "execution_count": null,
      "outputs": []
    },
    {
      "cell_type": "markdown",
      "metadata": {
        "id": "08aTcClCShFJ"
      },
      "source": [
        "## Agglomerative Clustering + GMM"
      ]
    },
    {
      "cell_type": "markdown",
      "metadata": {
        "id": "a7iQcXumT0Ur"
      },
      "source": [
        "GMM sources\n",
        "\n",
        "[Kmeans vs GMM](https://jakevdp.github.io/PythonDataScienceHandbook/05.12-gaussian-mixtures.html)\n",
        "\n",
        "[Clustering with Gaussian Mixture Models](https://pythonmachinelearning.pro/clustering-with-gaussian-mixture-models/)\n",
        "\n",
        "[Evaluation](https://stackoverflow.com/questions/59827051/evaluating-gaussian-mixture-model-using-a-score-metric)"
      ]
    },
    {
      "cell_type": "code",
      "metadata": {
        "colab": {
          "base_uri": "https://localhost:8080/",
          "height": 83,
          "referenced_widgets": [
            "cbbc2b2edc8e436285c28cbd540e4e10",
            "c0168bf93d414814babacf03b95cbb98",
            "bc5ef4d53e9041f1b2740b2d6527b414",
            "8934df213bc44031a379da61b4003d6c",
            "d9fd75331a934284a599f9ed94c6f6da",
            "7d8470ac768240f3869e6d47d30d565b",
            "602e5e21e12643fe9984f382866f6991",
            "306a4cbe82b441a1a6d2d00d9048e51b"
          ]
        },
        "id": "brWYHWxnV-R7",
        "outputId": "e7fb99e9-05c8-48b3-afdd-1f27d4930625"
      },
      "source": [
        "c = Clustering(corpus, tags, max_len=MAX_LEN)\\\n",
        "            .tokenize()\\\n",
        "            .create_data_loader(16)\\\n",
        "            .make_embeddings()\\\n",
        "            .save_embeddings()"
      ],
      "execution_count": null,
      "outputs": [
        {
          "output_type": "display_data",
          "data": {
            "application/vnd.jupyter.widget-view+json": {
              "model_id": "cbbc2b2edc8e436285c28cbd540e4e10",
              "version_minor": 0,
              "version_major": 2
            },
            "text/plain": [
              "HBox(children=(FloatProgress(value=0.0, max=2350.0), HTML(value='')))"
            ]
          },
          "metadata": {
            "tags": []
          }
        },
        {
          "output_type": "stream",
          "text": [
            "\n",
            "Time taken: 12 minutes and 35 seconds\n"
          ],
          "name": "stdout"
        }
      ]
    },
    {
      "cell_type": "markdown",
      "metadata": {
        "id": "UptfeEexXntX"
      },
      "source": [
        "#### Собственно кластеризация"
      ]
    },
    {
      "cell_type": "code",
      "metadata": {
        "id": "ybGAR5uXhXTm",
        "colab": {
          "base_uri": "https://localhost:8080/"
        },
        "outputId": "7f0cc605-5c1d-4242-9d20-fec416b49184"
      },
      "source": [
        "# Agglomerative\n",
        "kwargs_hac = {\n",
        "    'affinity': 'euclidean',\n",
        "    'linkage': 'ward',\n",
        "}\n",
        "\n",
        "# Gaussian\n",
        "kwargs_gmm = {\n",
        "    'covariance_type': 'full',\n",
        "    'random_state': 42,\n",
        "    'tol': 5e-3\n",
        "}\n",
        "\n",
        "# KMeans\n",
        "kwargs_kmeans = {\n",
        "    'tol': 1e-3,\n",
        "    'max_iter': 200\n",
        "}\n",
        "\n",
        "\n",
        "# c.cluster(KMeans, 10, 11)\n",
        "# c.cluster(AgglomerativeClustering, 5, 25, **kwargs_hac)\n",
        "# c.cluster(GaussianMixture, 25, 50, **kwargs_gmm)\n",
        "c.cluster(GaussianMixture, 20, 20, **kwargs_gmm)"
      ],
      "execution_count": null,
      "outputs": [
        {
          "output_type": "stream",
          "text": [
            "Running with k = 20\n",
            "\tDone for k = 20\n",
            "Time taken: 1 minutes and 55 seconds\n",
            "Clustering with the best k = 20\n",
            "#### DONE ####\n"
          ],
          "name": "stdout"
        },
        {
          "output_type": "execute_result",
          "data": {
            "text/plain": [
              "<__main__.Clustering at 0x7fc0ad5842d0>"
            ]
          },
          "metadata": {
            "tags": []
          },
          "execution_count": 36
        }
      ]
    },
    {
      "cell_type": "code",
      "metadata": {
        "id": "a00-ozgn4VAX"
      },
      "source": [
        "def plot_distro_of_clusters_in_single_tag():\n",
        "    '''\n",
        "    подсчет распределения различных кластеров в одном теге\n",
        "    '''\n",
        "    n_axes = len(Counter(c.tags).keys())\n",
        "    fig, axes = plt.subplots(nrows=n_axes, ncols=1, figsize=(n_axes * 4, n_axes * 5))\n",
        "    distro = c.create_tag_dict()\n",
        "    distro = list(distro.items())\n",
        "    for i, ax in enumerate(axes):\n",
        "        tag_clusters_counter = Counter(distro[i][1]).most_common()\n",
        "        tag_clusters_counter = sorted(tag_clusters_counter, key=lambda x: x[0])\n",
        "        tag_clusters_counter = dict(tag_clusters_counter)\n",
        "        x_labels = tag_clusters_counter.keys()\n",
        "        ax.bar(tag_clusters_counter.keys(), tag_clusters_counter.values(), edgecolor='k')\n",
        "        ax.set_xticks(np.arange(0, c.best_k))\n",
        "        ax.set_xticklabels(x_labels)\n",
        "        ax.set_xlabel('Cluster number', fontsize=16)\n",
        "        ax.set_ylabel('Number of examples', fontsize=16)\n",
        "        ax.set_title(f'Tag: {distro[i][0]}', fontsize=18)\n",
        "        ax.tick_params(labelsize=14)\n",
        "        plt.tight_layout()\n",
        "    if DATASET_NAME == 'vk':\n",
        "        plt.savefig(f'/content/gdrive/MyDrive/RealEstate/sem_4/Final/clusters_in_tags_{DATASET_NAME}', dpi=300)\n",
        "    else:\n",
        "        plt.savefig(f'/content/gdrive/MyDrive/RealEstate/sem_4/Final/clusters_in_tags_{DATASET_NAME}_{LABELING_OPTION}', dpi=300)"
      ],
      "execution_count": null,
      "outputs": []
    },
    {
      "cell_type": "markdown",
      "metadata": {
        "id": "0cN76bjWXrkl"
      },
      "source": [
        "Сохранить нампай объект, записать тексты в различных кластерах"
      ]
    },
    {
      "cell_type": "code",
      "metadata": {
        "id": "SVgHjm80a3AB"
      },
      "source": [
        "# if DATASET_NAME == 'vk':\n",
        "#     c.save_numpy_object(f'/content/gdrive/MyDrive/RealEstate/sem_4/Final/gmm_new_{DATASET_NAME}')\n",
        "# else:\n",
        "#     c.save_numpy_object(f'/content/gdrive/MyDrive/RealEstate/sem_4/Final/gmm_new_{DATASET_NAME}_{LABELING_OPTION}')\n",
        "\n",
        "# # c.write_clustering('/content/gdrive/MyDrive/RealEstate/sem_4/Final/gmm_clustered_classes.txt')"
      ],
      "execution_count": null,
      "outputs": []
    },
    {
      "cell_type": "markdown",
      "metadata": {
        "id": "tB0TfnHs3Hfu"
      },
      "source": [
        "# Testing clustering"
      ]
    },
    {
      "cell_type": "code",
      "metadata": {
        "id": "pwmYes4x3KO-",
        "colab": {
          "base_uri": "https://localhost:8080/"
        },
        "outputId": "051d2f50-d035-463f-944e-ebf8c09adb37"
      },
      "source": [
        "from sklearn.metrics import f1_score\n",
        "\n",
        "preds = c.assign_major_cluster_label()[:, 1][c.test_idxs]\n",
        "f1_score(preds, c.y_test, average='micro')"
      ],
      "execution_count": null,
      "outputs": [
        {
          "output_type": "execute_result",
          "data": {
            "text/plain": [
              "0.274105599148823"
            ]
          },
          "metadata": {
            "tags": []
          },
          "execution_count": 39
        }
      ]
    },
    {
      "cell_type": "code",
      "metadata": {
        "id": "Kazyi0leeUGk",
        "colab": {
          "base_uri": "https://localhost:8080/"
        },
        "outputId": "5148b47a-d1a8-4315-f674-10eb033149b7"
      },
      "source": [
        "# проверим, что индексы корректные\n",
        "x = c.test_idxs[1]\n",
        "c.corpus[x], c.assign_major_cluster_label()[:, 0][x]"
      ],
      "execution_count": null,
      "outputs": [
        {
          "output_type": "execute_result",
          "data": {
            "text/plain": [
              "('Кто нибудь еще ходит в библиотеки В 132 ю привезли новые книжки для детей',\n",
              " 'Кто нибудь еще ходит в библиотеки В 132 ю привезли новые книжки для детей')"
            ]
          },
          "metadata": {
            "tags": []
          },
          "execution_count": 40
        }
      ]
    },
    {
      "cell_type": "markdown",
      "metadata": {
        "id": "09qi8R-_s3gf"
      },
      "source": [
        "# \"Точность\" кластеризации на тестовой выборке"
      ]
    },
    {
      "cell_type": "code",
      "metadata": {
        "id": "L04hbZjZtI2Y"
      },
      "source": [
        "test_clustering_tags = c.assign_major_cluster_label()[:, 1][c.test_idxs]\n",
        "test_initial_tags = np.asarray(all_tags)[c.test_idxs]"
      ],
      "execution_count": null,
      "outputs": []
    },
    {
      "cell_type": "code",
      "metadata": {
        "id": "dxc21qocVgG5",
        "colab": {
          "base_uri": "https://localhost:8080/"
        },
        "outputId": "d123f671-769c-4640-b081-a7f2eec091a1"
      },
      "source": [
        "test_initial_tags[:50]"
      ],
      "execution_count": null,
      "outputs": [
        {
          "output_type": "execute_result",
          "data": {
            "text/plain": [
              "array([list(['Мероприятие']), list(['Новость']), list(['Новость']),\n",
              "       list(['Новость']), list(['Мероприятие', 'Дети']),\n",
              "       list(['#лучшедома']), list(['Вопрос']),\n",
              "       list(['#лучшедома', 'Вопрос']), list(['Безобразие', 'Здоровье']),\n",
              "       list(['Настроение']), list(['Безобразие', 'Пешеходу']),\n",
              "       list(['Животные']), list(['Мероприятие']), list(['#лучшедома']),\n",
              "       list(['Работа']), list(['Услуги']), list(['Новость', 'Дети']),\n",
              "       list(['Образование']), list(['Новость']), list(['#лучшедома']),\n",
              "       list(['Вопрос']), list(['Новость']), list(['Мероприятие']),\n",
              "       list(['#лучшедома']), list(['Безобразие']), list(['#лучшедома']),\n",
              "       list(['Животные']), list(['Образование']), list(['Услуги']),\n",
              "       list(['Дети', 'Образование']), list(['Предупреждение']),\n",
              "       list(['Вопрос']), list(['Новость']),\n",
              "       list(['Настроение', 'Скидки']), list(['Дети']),\n",
              "       list(['#лучшедома']), list(['Благотворительность', 'Приму в дар']),\n",
              "       list(['Водителю', 'Происшествие']), list(['Дети', 'Настроение']),\n",
              "       list(['Настроение']), list(['Отдам']), list(['Безобразие']),\n",
              "       list(['Выходные']), list(['Дети']), list(['#лучшедома']),\n",
              "       list(['Настроение']), list(['Предупреждение']),\n",
              "       list(['#лучшедома']), list(['Спорт', 'Выходные']),\n",
              "       list(['Новость'])], dtype=object)"
            ]
          },
          "metadata": {
            "tags": []
          },
          "execution_count": 42
        }
      ]
    },
    {
      "cell_type": "code",
      "metadata": {
        "id": "fpwkGF1aE-v9",
        "colab": {
          "base_uri": "https://localhost:8080/"
        },
        "outputId": "1e61779e-eda1-4464-e1cd-815c531fd6a0"
      },
      "source": [
        "3039 in c.test_idxs, all_tags[3039]"
      ],
      "execution_count": null,
      "outputs": [
        {
          "output_type": "execute_result",
          "data": {
            "text/plain": [
              "(False, ['Новость'])"
            ]
          },
          "metadata": {
            "tags": []
          },
          "execution_count": 43
        }
      ]
    },
    {
      "cell_type": "code",
      "metadata": {
        "id": "opq23e2o6XDh"
      },
      "source": [
        "count = 0\n",
        "for tag, tag_list in zip(test_clustering_tags, test_initial_tags):\n",
        "    if tag in tag_list:\n",
        "        count += 1"
      ],
      "execution_count": null,
      "outputs": []
    },
    {
      "cell_type": "code",
      "metadata": {
        "id": "3s9p0QBh60w7",
        "colab": {
          "base_uri": "https://localhost:8080/"
        },
        "outputId": "ce7ac1a4-b26b-433b-bc4f-2373ba4bfc8c"
      },
      "source": [
        "count / len(test_clustering_tags)"
      ],
      "execution_count": null,
      "outputs": [
        {
          "output_type": "execute_result",
          "data": {
            "text/plain": [
              "0.3104136188322915"
            ]
          },
          "metadata": {
            "tags": []
          },
          "execution_count": 45
        }
      ]
    },
    {
      "cell_type": "code",
      "metadata": {
        "id": "pwnSW8XAUmFY"
      },
      "source": [
        ""
      ],
      "execution_count": null,
      "outputs": []
    }
  ]
}